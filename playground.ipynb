{
 "cells": [
  {
   "cell_type": "code",
   "execution_count": 9,
   "metadata": {},
   "outputs": [],
   "source": [
    "from llm.openai_llm import OpenAIILLM\n",
    "from llm.together_ai_llm import TogetherAILLM\n",
    "\n",
    "SUMMARIZING_SYSTEM_PROMPT = '''\n",
    "You are an expert in Code Understanding. You need to output a step by step walk through of the given code in simple terms and short sentences.\n",
    "\n",
    "The output should be of the following format:\n",
    "1. Step 1\n",
    "2. Step 2\n",
    "3. Step 3\n",
    "...\n",
    "'''\n",
    "\n",
    "summarizing_agent = OpenAIILLM('gpt-3.5-turbo')"
   ]
  },
  {
   "cell_type": "code",
   "execution_count": 6,
   "metadata": {},
   "outputs": [
    {
     "name": "stdout",
     "output_type": "stream",
     "text": [
      "1. Step 1\n",
      "The code defines a function named insertionSort that takes an array (arr) as input.\n",
      "\n",
      "2. Step 2\n",
      "The function insertionSort implements the Insertion Sort algorithm.\n",
      "\n",
      "3. Step 3\n",
      "The function iterates over the array from the second element (index 1) to the end of the array.\n",
      "\n",
      "4. Step 4\n",
      "It selects the current element as the key to compare with other elements.\n",
      "\n",
      "5. Step 5\n",
      "It then compares the key with elements before it and shifts the elements greater than the key to the right by one position.\n",
      "\n",
      "6. Step 6\n",
      "Once all the elements are shifted, it places the key in the correct position in the sorted array.\n",
      "\n",
      "7. Step 7\n",
      "After sorting is done, the code defines an array 'arr' with values [12, 11, 13, 5, 6] to be sorted.\n",
      "\n",
      "8. Step 8\n",
      "The insertionSort function is called with the 'arr' array as input.\n",
      "\n",
      "9. Step 9\n",
      "After sorting, the code loops through the sorted array and prints each element.\n"
     ]
    }
   ],
   "source": [
    "code = '''\n",
    "\n",
    "# Python program for implementation of Insertion Sort\n",
    "\n",
    "# Function to do insertion sort\n",
    "def insertionSort(arr):\n",
    "\n",
    "    # Traverse through 1 to len(arr)\n",
    "    for i in range(1, len(arr)):\n",
    "\n",
    "        key = arr[i]\n",
    "\n",
    "        # Move elements of arr[0..i-1], that are\n",
    "        # greater than key, to one position ahead\n",
    "        # of their current position\n",
    "        j = i-1\n",
    "        while j >= 0 and key < arr[j] :\n",
    "                arr[j + 1] = arr[j]\n",
    "                j -= 1\n",
    "        arr[j + 1] = key\n",
    "\n",
    "\n",
    "# Driver code to test above\n",
    "arr = [12, 11, 13, 5, 6]\n",
    "insertionSort(arr)\n",
    "for i in range(len(arr)):\n",
    "    print (\"% d\" % arr[i])\n",
    "    \n",
    "'''\n",
    "\n",
    "summary = summarizing_agent.get_result(SUMMARIZING_SYSTEM_PROMPT, code)\n",
    "print(summary)"
   ]
  },
  {
   "cell_type": "code",
   "execution_count": 10,
   "metadata": {},
   "outputs": [
    {
     "name": "stdout",
     "output_type": "stream",
     "text": [
      "Here is the mermaid code for the given step-by-step explanation:\n",
      "```\n",
      "flowchart TD\n",
      "    A[Start] --> B[Define insertionSort function]\n",
      "    B --> C[Implement Insertion Sort algorithm]\n",
      "    C --> D[Iterate over array from index 1]\n",
      "    D --> E[Select current element as key]\n",
      "    E --> F[Compare key with elements before and shift]\n",
      "    F --> G[Place key in correct position]\n",
      "    G --> H[Define array 'arr' with values]\n",
      "    H --> I[Call insertionSort function with 'arr']\n",
      "    I --> J[Loop through sorted array and print each element]\n",
      "    J --> K[End]\n",
      "```\n",
      "Let me know if this meets your requirements!\n"
     ]
    }
   ],
   "source": [
    "DRAWING_SYSTEM_PROMPT = '''\n",
    "You are an expert in writing mermaid code for visualizing code summary. You need to convert the given step by step explanation of code into a mermaid flowchart.\n",
    "\n",
    "Respect the following rules while generating the output:\n",
    "1. Only decisions should be in {}\n",
    "2. Do not use square brackets as part of the text\n",
    "\n",
    "The input will be of the following format:\n",
    "1. Step 1\n",
    "2. Step 2\n",
    "3. Step 3\n",
    "...\n",
    "\n",
    "Here is a sample mermaid code:\n",
    "\n",
    "flowchart TD\n",
    "    A[Start] --> B{Is it?}\n",
    "    B -->|Yes| C[OK]\n",
    "    C --> D[Rethink]\n",
    "    D --> B\n",
    "    B ---->|No| E[End]\n",
    "\n",
    "\n",
    "'''\n",
    "\n",
    "drawing_agent = OpenAIILLM('gpt-3.5-turbo')\n",
    "# drawing_agent = TogetherAILLM('llama3-70b')\n",
    "mermaid = drawing_agent.get_result(DRAWING_SYSTEM_PROMPT, summary)\n",
    "print(mermaid)"
   ]
  }
 ],
 "metadata": {
  "kernelspec": {
   "display_name": "vacad",
   "language": "python",
   "name": "python3"
  },
  "language_info": {
   "codemirror_mode": {
    "name": "ipython",
    "version": 3
   },
   "file_extension": ".py",
   "mimetype": "text/x-python",
   "name": "python",
   "nbconvert_exporter": "python",
   "pygments_lexer": "ipython3",
   "version": "3.11.9"
  },
  "orig_nbformat": 4
 },
 "nbformat": 4,
 "nbformat_minor": 2
}
