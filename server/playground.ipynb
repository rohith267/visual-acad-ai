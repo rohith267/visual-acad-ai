{
 "cells": [
  {
   "cell_type": "code",
   "execution_count": 6,
   "metadata": {},
   "outputs": [],
   "source": [
    "from llm.openai_llm import OpenAIILLM\n",
    "from llm.together_ai_llm import TogetherAILLM\n",
    "\n",
    "SUMMARIZING_SYSTEM_PROMPT = '''\n",
    "You are an expert in python code Understanding. You will be given a python function as the input. You need to output a step by step walk through of the function in simple terms and short sentences.\n",
    "\n",
    "The output should be of the following format:\n",
    "1. Step 1\n",
    "2. Step 2\n",
    "3. Step 3\n",
    "...\n",
    "'''\n",
    "\n",
    "summarizing_agent = OpenAIILLM('gpt-3.5-turbo')"
   ]
  },
  {
   "cell_type": "code",
   "execution_count": 1,
   "metadata": {},
   "outputs": [
    {
     "ename": "NameError",
     "evalue": "name 'summarizing_agent' is not defined",
     "output_type": "error",
     "traceback": [
      "\u001b[0;31m---------------------------------------------------------------------------\u001b[0m",
      "\u001b[0;31mNameError\u001b[0m                                 Traceback (most recent call last)",
      "\u001b[1;32m/Users/veera/Desktop/visual-acad-ai/server/playground.ipynb Cell 2\u001b[0m line \u001b[0;36m1\n\u001b[1;32m      <a href='vscode-notebook-cell:/Users/veera/Desktop/visual-acad-ai/server/playground.ipynb#W1sZmlsZQ%3D%3D?line=0'>1</a>\u001b[0m code \u001b[39m=\u001b[39m \u001b[39m'''\u001b[39m\n\u001b[1;32m      <a href='vscode-notebook-cell:/Users/veera/Desktop/visual-acad-ai/server/playground.ipynb#W1sZmlsZQ%3D%3D?line=1'>2</a>\u001b[0m \u001b[39mdef knapSack(W, wt, val, n):\u001b[39m\n\u001b[1;32m      <a href='vscode-notebook-cell:/Users/veera/Desktop/visual-acad-ai/server/playground.ipynb#W1sZmlsZQ%3D%3D?line=2'>3</a>\u001b[0m \n\u001b[0;32m   (...)\u001b[0m\n\u001b[1;32m     <a href='vscode-notebook-cell:/Users/veera/Desktop/visual-acad-ai/server/playground.ipynb#W1sZmlsZQ%3D%3D?line=13'>14</a>\u001b[0m \u001b[39m            knapSack(W, wt, val, n-1))\u001b[39m\n\u001b[1;32m     <a href='vscode-notebook-cell:/Users/veera/Desktop/visual-acad-ai/server/playground.ipynb#W1sZmlsZQ%3D%3D?line=14'>15</a>\u001b[0m \u001b[39m'''\u001b[39m\n\u001b[0;32m---> <a href='vscode-notebook-cell:/Users/veera/Desktop/visual-acad-ai/server/playground.ipynb#W1sZmlsZQ%3D%3D?line=16'>17</a>\u001b[0m summary \u001b[39m=\u001b[39m summarizing_agent\u001b[39m.\u001b[39mget_result(SUMMARIZING_SYSTEM_PROMPT, code)\n\u001b[1;32m     <a href='vscode-notebook-cell:/Users/veera/Desktop/visual-acad-ai/server/playground.ipynb#W1sZmlsZQ%3D%3D?line=17'>18</a>\u001b[0m \u001b[39mprint\u001b[39m(summary)\n",
      "\u001b[0;31mNameError\u001b[0m: name 'summarizing_agent' is not defined"
     ]
    }
   ],
   "source": [
    "code = '''\n",
    "def knapSack(W, wt, val, n):\n",
    "\n",
    "    if n == 0 or W == 0:\n",
    "        return 0\n",
    "\n",
    "    if (wt[n-1] > W):\n",
    "        return knapSack(W, wt, val, n-1)\n",
    "\n",
    "    else:\n",
    "        return max(\n",
    "            val[n-1] + knapSack(\n",
    "                W-wt[n-1], wt, val, n-1),\n",
    "            knapSack(W, wt, val, n-1))\n",
    "'''\n",
    "\n",
    "summary = summarizing_agent.get_result(SUMMARIZING_SYSTEM_PROMPT, code)\n",
    "print(summary)"
   ]
  },
  {
   "cell_type": "code",
   "execution_count": 23,
   "metadata": {},
   "outputs": [
    {
     "name": "stdout",
     "output_type": "stream",
     "text": [
      "flowchart TD\n",
      "    A[Start] --> B{Is either n or W 0?}\n",
      "    B -->|Yes| E[Return 0]\n",
      "    B -->|No| C{Is wt[n-1] > W?}\n",
      "    C -->|Yes| D[Skip item and recurse with previous item]\n",
      "    C -->|No| F{Calculate max value}\n",
      "    F -->|Include| G[Recursively call knapSack with updated weight and previous item]\n",
      "    F -->|Exclude| H[Recursively call knapSack with same values and previous item]\n",
      "    H --> I[Return max value]\n",
      "    G --> I\n",
      "    D --> B\n",
      "    E --> I\n",
      "    I --> J[Final Result]\n"
     ]
    }
   ],
   "source": [
    "import json\n",
    "\n",
    "DRAWING_SYSTEM_PROMPT = '''\n",
    "You are an expert in writing mermaid code for visualizing code summary. You need to convert the given step by step explanation of code into a mermaid flowchart.\n",
    "\n",
    "Respect the following rules while generating the output:\n",
    "1. Only decisions should be in {}\n",
    "\n",
    "The input will be of the following format:\n",
    "1. Step 1\n",
    "2. Step 2\n",
    "3. Step 3\n",
    "...\n",
    "\n",
    "Here is a sample mermaid code:\n",
    "\n",
    "flowchart TD\n",
    "    A[Start] --> B{Is it?}\n",
    "    B -->|Yes| C[OK]\n",
    "    C --> D[Rethink]\n",
    "    D --> B\n",
    "    B ---->|No| E[End]\n",
    "\n",
    "The output should be in the following JSON format:\n",
    "{\n",
    "    \"mermaid\": \"Corresponding mermaid code\"\n",
    "}\n",
    "    \n",
    "'''\n",
    "\n",
    "drawing_agent = OpenAIILLM('gpt-3.5-turbo')\n",
    "# drawing_agent = TogetherAILLM('llama3-70b')\n",
    "result = json.loads(drawing_agent.get_result(DRAWING_SYSTEM_PROMPT, summary))\n",
    "print(result['mermaid'])"
   ]
  },
  {
   "cell_type": "code",
   "execution_count": 5,
   "metadata": {},
   "outputs": [
    {
     "name": "stdout",
     "output_type": "stream",
     "text": [
      "graph TD\n",
      "A[Check if either n is equal to 0 or W is equal to 0.] -->|Yes| B(Return 0)\n",
      "A -->|No| C[Check if the weight of the current item is greater than the remaining capacity W of the knapsack.]\n",
      "C -->|Yes| D[Recursively call knapSack function with W, wt, val, and n-1.]\n",
      "D --> E{Calculate maximum value between including and excluding current item.}\n",
      "E -->|Including| F[Add value to maximum value obtained by recursive call with updated weight and n-1.]\n",
      "E -->|Excluding| G[Recursively call knapSack function without including the current item.]\n",
      "F --> H(Return maximum value)\n",
      "G --> H\n"
     ]
    }
   ],
   "source": [
    "str = \"graph TD\\nA[Check if either n is equal to 0 or W is equal to 0.] -->|Yes| B(Return 0)\\nA -->|No| C[Check if the weight of the current item is greater than the remaining capacity W of the knapsack.]\\nC -->|Yes| D[Recursively call knapSack function with W, wt, val, and n-1.]\\nD --> E{Calculate maximum value between including and excluding current item.}\\nE -->|Including| F[Add value to maximum value obtained by recursive call with updated weight and n-1.]\\nE -->|Excluding| G[Recursively call knapSack function without including the current item.]\\nF --> H(Return maximum value)\\nG --> H\"\n",
    "print(str)"
   ]
  }
 ],
 "metadata": {
  "kernelspec": {
   "display_name": "vacad",
   "language": "python",
   "name": "python3"
  },
  "language_info": {
   "codemirror_mode": {
    "name": "ipython",
    "version": 3
   },
   "file_extension": ".py",
   "mimetype": "text/x-python",
   "name": "python",
   "nbconvert_exporter": "python",
   "pygments_lexer": "ipython3",
   "version": "3.11.9"
  },
  "orig_nbformat": 4
 },
 "nbformat": 4,
 "nbformat_minor": 2
}
